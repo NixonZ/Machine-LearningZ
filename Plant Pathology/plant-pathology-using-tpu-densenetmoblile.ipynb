{
 "cells": [
  {
   "cell_type": "markdown",
   "metadata": {},
   "source": [
    "# Plant Pathology using TPU-DenseNetMoblile\n",
    "I have used the prebuild model in keras - Keras Application.Keras Applications are deep learning models that are made available alongside pre-trained weights. You can read more about them [here](https://keras.io/applications/).\n",
    "1. [Pre-processing Images](#head1)\n",
    "2. [CNN Model](#head2)\n",
    "  * [Load in pre-trained model](#head2a)\n",
    "  * [Add Final trainable layers to pre-built model](#head2b)\n",
    "  * [Learing Rate Scheduler](#head2c)\n",
    "3. [Evaluation and training curves.](#head3)"
   ]
  },
  {
   "cell_type": "code",
   "execution_count": 1,
   "metadata": {
    "_cell_guid": "b1076dfc-b9ad-4769-8c92-a6c4dae69d19",
    "_uuid": "8f2839f25d086af736a60e9eeb907d3b93b6e0e5"
   },
   "outputs": [
    {
     "data": {
      "text/plain": [
       "(512, 512)"
      ]
     },
     "execution_count": 1,
     "metadata": {},
     "output_type": "execute_result"
    }
   ],
   "source": [
    "import numpy as np\n",
    "import pandas as pd\n",
    "import cv2\n",
    "import tensorflow as tf\n",
    "import matplotlib.pyplot as plt\n",
    "from matplotlib.pyplot import imshow\n",
    "from sklearn.model_selection import train_test_split\n",
    "from kaggle_datasets import KaggleDatasets\n",
    "%matplotlib inline\n",
    "scale_percent = 30\n",
    "# width = int(1365 * scale_percent / 100)\n",
    "# height = int(2048 * scale_percent / 100)\n",
    "width = 512\n",
    "height = 512\n",
    "dim = (width, height)\n",
    "dim"
   ]
  },
  {
   "cell_type": "code",
   "execution_count": 2,
   "metadata": {},
   "outputs": [],
   "source": [
    "AUTO = tf.data.experimental.AUTOTUNE\n",
    "\n",
    "tpu = tf.distribute.cluster_resolver.TPUClusterResolver()\n",
    "tf.config.experimental_connect_to_cluster(tpu)\n",
    "tf.tpu.experimental.initialize_tpu_system(tpu)\n",
    "tpu_strategy = tf.distribute.experimental.TPUStrategy(tpu)\n",
    "\n",
    "batch_size = 16*tpu_strategy.num_replicas_in_sync"
   ]
  },
  {
   "cell_type": "code",
   "execution_count": 3,
   "metadata": {},
   "outputs": [
    {
     "data": {
      "text/plain": [
       "'gs://kds-44c8a6f93070fa89189427ff10c4c0530ab3f532ac92907ab3c2bb58'"
      ]
     },
     "execution_count": 3,
     "metadata": {},
     "output_type": "execute_result"
    }
   ],
   "source": [
    "GCS_DS_PATH = KaggleDatasets().get_gcs_path()\n",
    "GCS_DS_PATH"
   ]
  },
  {
   "cell_type": "code",
   "execution_count": 4,
   "metadata": {
    "_cell_guid": "79c7e3d0-c299-4dcb-8224-4455121ee9b0",
    "_uuid": "d629ff2d2480ee46fbb7e2d37f6b5fab8052498a"
   },
   "outputs": [],
   "source": [
    "def ImageIDtodir(label):\n",
    "    return GCS_DS_PATH+'/images/' + label + '.jpg'\n",
    "train_df = pd.read_csv('/kaggle/input/plant-pathology-2020-fgvc7/train.csv')\n",
    "train_dir = train_df['image_id'].apply(ImageIDtodir).values\n",
    "test_df = pd.read_csv('/kaggle/input/plant-pathology-2020-fgvc7/test.csv')\n",
    "test_dir = test_df['image_id'].apply(ImageIDtodir).values\n",
    "y =  train_df.loc[:, 'healthy':].values\n",
    "train_dir, valid_dir, y_train, y_val = train_test_split(train_dir,y,test_size=0.15)"
   ]
  },
  {
   "cell_type": "markdown",
   "metadata": {},
   "source": [
    "# <a name=\"head1\"></a>1.Pre-processing Images \n",
    "we are using tensorflow tensor_from_slices to read images while training directly from the file.Images are reshaped to 512x512x3.\n",
    "I am also splitting the train images into training and validation with a validation split of 0.15.   \n",
    "The train images are flipped randomly but no such pre-processing is done on validation or train images."
   ]
  },
  {
   "cell_type": "code",
   "execution_count": 5,
   "metadata": {},
   "outputs": [],
   "source": [
    "def load_image(filename, label=None,image_size=(width,height)):\n",
    "    bits = tf.io.read_file(filename)\n",
    "    image = tf.image.decode_jpeg(bits, channels=3)\n",
    "    image = tf.cast(image, tf.float32) / 255.0\n",
    "    image = tf.image.resize(image,image_size)   \n",
    "    if label is None:\n",
    "        return image\n",
    "    else:\n",
    "        return image, label\n",
    "    \n",
    "\n",
    "def augment(image, label=None):\n",
    "    image = tf.image.random_flip_left_right(image)\n",
    "    image = tf.image.random_flip_up_down(image)\n",
    "    if label is None:\n",
    "        return image\n",
    "    else:\n",
    "        return image, label"
   ]
  },
  {
   "cell_type": "code",
   "execution_count": 6,
   "metadata": {},
   "outputs": [],
   "source": [
    "train_dataset = (\n",
    "    tf.data.Dataset.from_tensor_slices((train_dir, y_train))\n",
    "    .map(load_image, num_parallel_calls=AUTO)\n",
    "    .cache()\n",
    "    .map(augment, num_parallel_calls=AUTO)\n",
    "    .repeat()\n",
    "    .shuffle(512)\n",
    "    .batch(batch_size)\n",
    "    .prefetch(AUTO)\n",
    ")\n",
    "\n",
    "valid_dataset = (\n",
    "    tf.data.Dataset.from_tensor_slices((valid_dir,y_val))\n",
    "    .map(load_image, num_parallel_calls=AUTO)\n",
    "    .cache()\n",
    "    .batch(batch_size)\n",
    "    .prefetch(AUTO)\n",
    ")\n",
    "\n",
    "test_dataset = (\n",
    "    tf.data.Dataset\n",
    "    .from_tensor_slices(test_dir)\n",
    "    .map(load_image, num_parallel_calls=AUTO)\n",
    "    .cache()\n",
    "    .batch(batch_size)\n",
    ")"
   ]
  },
  {
   "cell_type": "markdown",
   "metadata": {},
   "source": [
    "# <a name=\"head2\"></a>2. CNN Model\n",
    "\n",
    "## A. <a name=\"head2a\"></a>Load in Pre-trained model.\n",
    "I have used the DenseNetMobile in-built model with pre-trained weights. You can read about other Keras Applications [here](https://keras.io/applications/#available-models).   "
   ]
  },
  {
   "cell_type": "markdown",
   "metadata": {},
   "source": [
    "## B. <a name=\"head2b\"></a>Add Final trainable Layers to pre-built model.\n",
    "As we need to categories the images into 4 labels we need to add another layer to the model.     \n",
    "The ouput of the DenseNet model which are essentially features extracted from the images are passed on to more layers-\n",
    "* A Global average pooling layer\n",
    "* A Dropout layer with rate 0.3\n",
    "* A Dense layer with 50 units and relu activation.\n",
    "* A Dense layer with 4 units and softmax activation.  \n",
    "   \n",
    "The last layer is which gives out the precitions.   \n",
    "  "
   ]
  },
  {
   "cell_type": "code",
   "execution_count": 7,
   "metadata": {},
   "outputs": [
    {
     "name": "stdout",
     "output_type": "stream",
     "text": [
      "Downloading data from https://github.com/keras-team/keras-applications/releases/download/densenet/densenet121_weights_tf_dim_ordering_tf_kernels_notop.h5\n",
      "29089792/29084464 [==============================] - 1s 0us/step\n"
     ]
    }
   ],
   "source": [
    "with tpu_strategy.scope():\n",
    "    DenseNetModel = tf.keras.applications.DenseNet121(input_shape=(width,height,3),\n",
    "                                              weights='imagenet',\n",
    "                                              include_top=False)\n",
    "    model = tf.keras.models.Sequential(\n",
    "        [DenseNetModel,\n",
    "#             tf.keras.layers.Convolution2D(1024,(5,5),strides=(2,2),activation='relu'),\n",
    "#             tf.keras.layers.Convolution2D(2048,(4,4),strides=(2,2),activation='relu'),\n",
    "#             tf.keras.layers.AveragePooling2D((5,5),2),\n",
    "#             tf.keras.layers.AveragePooling2D((4,4),2),\n",
    "        tf.keras.layers.GlobalAveragePooling2D(),\n",
    "        tf.keras.layers.Dropout(0.3),\n",
    "        tf.keras.layers.Dense(50, activation='relu'),\n",
    "        tf.keras.layers.Dense(4, activation='softmax')]\n",
    "    )\n",
    "    # Compile the model\n",
    "    model.compile(loss='categorical_crossentropy',\n",
    "                optimizer='adam',\n",
    "                metrics=['accuracy',tf.keras.metrics.AUC(name='auc')])"
   ]
  },
  {
   "cell_type": "code",
   "execution_count": 8,
   "metadata": {},
   "outputs": [
    {
     "name": "stdout",
     "output_type": "stream",
     "text": [
      "Model: \"sequential\"\n",
      "_________________________________________________________________\n",
      "Layer (type)                 Output Shape              Param #   \n",
      "=================================================================\n",
      "densenet121 (Model)          (None, 16, 16, 1024)      7037504   \n",
      "_________________________________________________________________\n",
      "global_average_pooling2d (Gl (None, 1024)              0         \n",
      "_________________________________________________________________\n",
      "dropout (Dropout)            (None, 1024)              0         \n",
      "_________________________________________________________________\n",
      "dense (Dense)                (None, 50)                51250     \n",
      "_________________________________________________________________\n",
      "dense_1 (Dense)              (None, 4)                 204       \n",
      "=================================================================\n",
      "Total params: 7,088,958\n",
      "Trainable params: 7,005,310\n",
      "Non-trainable params: 83,648\n",
      "_________________________________________________________________\n"
     ]
    }
   ],
   "source": [
    "model.summary()"
   ]
  },
  {
   "cell_type": "markdown",
   "metadata": {},
   "source": [
    "# <a name=\"head2b\"></a> Learing Rate Scheduler\n",
    "We have to reduce our learning mid-training as the "
   ]
  },
  {
   "cell_type": "code",
   "execution_count": 9,
   "metadata": {},
   "outputs": [],
   "source": [
    "# Learning rate schedular\n",
    "def lr_scheduler(epoch, lr):\n",
    "    decay_rate = 0.5\n",
    "    decay_step = 5\n",
    "    if epoch % decay_step == 0 and epoch:\n",
    "        return lr * decay_rate\n",
    "    return lr\n",
    "callbacks = [\n",
    "    tf.keras.callbacks.LearningRateScheduler(lr_scheduler, verbose=1)\n",
    "]"
   ]
  },
  {
   "cell_type": "code",
   "execution_count": 10,
   "metadata": {},
   "outputs": [
    {
     "name": "stdout",
     "output_type": "stream",
     "text": [
      "Train for 14 steps, validate for 3 steps\n",
      "\n",
      "Epoch 00001: LearningRateScheduler reducing learning rate to 0.0010000000474974513.\n",
      "Epoch 1/25\n",
      "14/14 [==============================] - 219s 16s/step - loss: 0.6901 - accuracy: 0.7690 - auc: 0.9274 - val_loss: 24.4483 - val_accuracy: 0.3577 - val_auc: 0.5718\n",
      "\n",
      "Epoch 00002: LearningRateScheduler reducing learning rate to 0.0010000000474974513.\n",
      "Epoch 2/25\n",
      "14/14 [==============================] - 6s 418ms/step - loss: 0.3212 - accuracy: 0.9029 - auc: 0.9799 - val_loss: 47.2992 - val_accuracy: 0.3577 - val_auc: 0.5718\n",
      "\n",
      "Epoch 00003: LearningRateScheduler reducing learning rate to 0.0010000000474974513.\n",
      "Epoch 3/25\n",
      "14/14 [==============================] - 6s 408ms/step - loss: 0.2194 - accuracy: 0.9330 - auc: 0.9891 - val_loss: 14.1203 - val_accuracy: 0.3577 - val_auc: 0.5735\n",
      "\n",
      "Epoch 00004: LearningRateScheduler reducing learning rate to 0.0010000000474974513.\n",
      "Epoch 4/25\n",
      "14/14 [==============================] - 6s 406ms/step - loss: 0.2048 - accuracy: 0.9353 - auc: 0.9903 - val_loss: 3.4105 - val_accuracy: 0.4526 - val_auc: 0.7101\n",
      "\n",
      "Epoch 00005: LearningRateScheduler reducing learning rate to 0.0010000000474974513.\n",
      "Epoch 5/25\n",
      "14/14 [==============================] - 6s 400ms/step - loss: 0.1603 - accuracy: 0.9492 - auc: 0.9940 - val_loss: 3.7619 - val_accuracy: 0.3905 - val_auc: 0.6730\n",
      "\n",
      "Epoch 00006: LearningRateScheduler reducing learning rate to 0.0005000000237487257.\n",
      "Epoch 6/25\n",
      "14/14 [==============================] - 6s 402ms/step - loss: 0.1242 - accuracy: 0.9648 - auc: 0.9960 - val_loss: 6.0834 - val_accuracy: 0.4489 - val_auc: 0.6574\n",
      "\n",
      "Epoch 00007: LearningRateScheduler reducing learning rate to 0.0005000000237487257.\n",
      "Epoch 7/25\n",
      "14/14 [==============================] - 6s 399ms/step - loss: 0.0836 - accuracy: 0.9754 - auc: 0.9984 - val_loss: 7.0090 - val_accuracy: 0.5036 - val_auc: 0.6955\n",
      "\n",
      "Epoch 00008: LearningRateScheduler reducing learning rate to 0.0005000000237487257.\n",
      "Epoch 8/25\n",
      "14/14 [==============================] - 6s 415ms/step - loss: 0.0840 - accuracy: 0.9732 - auc: 0.9983 - val_loss: 0.9242 - val_accuracy: 0.8102 - val_auc: 0.9186\n",
      "\n",
      "Epoch 00009: LearningRateScheduler reducing learning rate to 0.0005000000237487257.\n",
      "Epoch 9/25\n",
      "14/14 [==============================] - 6s 413ms/step - loss: 0.0629 - accuracy: 0.9844 - auc: 0.9987 - val_loss: 0.3401 - val_accuracy: 0.9124 - val_auc: 0.9738\n",
      "\n",
      "Epoch 00010: LearningRateScheduler reducing learning rate to 0.0005000000237487257.\n",
      "Epoch 10/25\n",
      "14/14 [==============================] - 6s 414ms/step - loss: 0.0516 - accuracy: 0.9838 - auc: 0.9995 - val_loss: 0.5391 - val_accuracy: 0.8905 - val_auc: 0.9598\n",
      "\n",
      "Epoch 00011: LearningRateScheduler reducing learning rate to 0.0002500000118743628.\n",
      "Epoch 11/25\n",
      "14/14 [==============================] - 6s 408ms/step - loss: 0.0430 - accuracy: 0.9888 - auc: 0.9993 - val_loss: 0.3711 - val_accuracy: 0.9015 - val_auc: 0.9747\n",
      "\n",
      "Epoch 00012: LearningRateScheduler reducing learning rate to 0.0002500000118743628.\n",
      "Epoch 12/25\n",
      "14/14 [==============================] - 6s 412ms/step - loss: 0.0420 - accuracy: 0.9855 - auc: 0.9997 - val_loss: 0.3845 - val_accuracy: 0.8759 - val_auc: 0.9680\n",
      "\n",
      "Epoch 00013: LearningRateScheduler reducing learning rate to 0.0002500000118743628.\n",
      "Epoch 13/25\n",
      "14/14 [==============================] - 6s 409ms/step - loss: 0.0389 - accuracy: 0.9911 - auc: 0.9989 - val_loss: 0.2616 - val_accuracy: 0.9015 - val_auc: 0.9750\n",
      "\n",
      "Epoch 00014: LearningRateScheduler reducing learning rate to 0.0002500000118743628.\n",
      "Epoch 14/25\n",
      "14/14 [==============================] - 6s 415ms/step - loss: 0.0199 - accuracy: 0.9950 - auc: 0.9996 - val_loss: 0.3554 - val_accuracy: 0.8978 - val_auc: 0.9661\n",
      "\n",
      "Epoch 00015: LearningRateScheduler reducing learning rate to 0.0002500000118743628.\n",
      "Epoch 15/25\n",
      "14/14 [==============================] - 6s 403ms/step - loss: 0.0185 - accuracy: 0.9950 - auc: 1.0000 - val_loss: 0.3930 - val_accuracy: 0.8832 - val_auc: 0.9629\n",
      "\n",
      "Epoch 00016: LearningRateScheduler reducing learning rate to 0.0001250000059371814.\n",
      "Epoch 16/25\n",
      "14/14 [==============================] - 6s 413ms/step - loss: 0.0191 - accuracy: 0.9933 - auc: 1.0000 - val_loss: 0.3636 - val_accuracy: 0.8905 - val_auc: 0.9694\n",
      "\n",
      "Epoch 00017: LearningRateScheduler reducing learning rate to 0.0001250000059371814.\n",
      "Epoch 17/25\n",
      "14/14 [==============================] - 5s 391ms/step - loss: 0.0301 - accuracy: 0.9922 - auc: 0.9995 - val_loss: 0.3393 - val_accuracy: 0.8942 - val_auc: 0.9632\n",
      "\n",
      "Epoch 00018: LearningRateScheduler reducing learning rate to 0.0001250000059371814.\n",
      "Epoch 18/25\n",
      "14/14 [==============================] - 6s 410ms/step - loss: 0.0239 - accuracy: 0.9944 - auc: 0.9995 - val_loss: 0.2481 - val_accuracy: 0.9307 - val_auc: 0.9770\n",
      "\n",
      "Epoch 00019: LearningRateScheduler reducing learning rate to 0.0001250000059371814.\n",
      "Epoch 19/25\n",
      "14/14 [==============================] - 6s 407ms/step - loss: 0.0175 - accuracy: 0.9939 - auc: 1.0000 - val_loss: 0.2227 - val_accuracy: 0.9270 - val_auc: 0.9852\n",
      "\n",
      "Epoch 00020: LearningRateScheduler reducing learning rate to 0.0001250000059371814.\n",
      "Epoch 20/25\n",
      "14/14 [==============================] - 6s 412ms/step - loss: 0.0144 - accuracy: 0.9950 - auc: 1.0000 - val_loss: 0.2183 - val_accuracy: 0.9270 - val_auc: 0.9835\n",
      "\n",
      "Epoch 00021: LearningRateScheduler reducing learning rate to 6.25000029685907e-05.\n",
      "Epoch 21/25\n",
      "14/14 [==============================] - 6s 399ms/step - loss: 0.0064 - accuracy: 0.9989 - auc: 1.0000 - val_loss: 0.2126 - val_accuracy: 0.9307 - val_auc: 0.9828\n",
      "\n",
      "Epoch 00022: LearningRateScheduler reducing learning rate to 6.25000029685907e-05.\n",
      "Epoch 22/25\n",
      "14/14 [==============================] - 6s 410ms/step - loss: 0.0185 - accuracy: 0.9939 - auc: 0.9999 - val_loss: 0.2095 - val_accuracy: 0.9343 - val_auc: 0.9805\n",
      "\n",
      "Epoch 00023: LearningRateScheduler reducing learning rate to 6.25000029685907e-05.\n",
      "Epoch 23/25\n",
      "14/14 [==============================] - 6s 401ms/step - loss: 0.0107 - accuracy: 0.9978 - auc: 1.0000 - val_loss: 0.2092 - val_accuracy: 0.9343 - val_auc: 0.9811\n",
      "\n",
      "Epoch 00024: LearningRateScheduler reducing learning rate to 6.25000029685907e-05.\n",
      "Epoch 24/25\n",
      "14/14 [==============================] - 6s 412ms/step - loss: 0.0131 - accuracy: 0.9961 - auc: 1.0000 - val_loss: 0.1968 - val_accuracy: 0.9416 - val_auc: 0.9834\n",
      "\n",
      "Epoch 00025: LearningRateScheduler reducing learning rate to 6.25000029685907e-05.\n",
      "Epoch 25/25\n",
      "14/14 [==============================] - 6s 406ms/step - loss: 0.0096 - accuracy: 0.9989 - auc: 1.0000 - val_loss: 0.1749 - val_accuracy: 0.9416 - val_auc: 0.9876\n"
     ]
    }
   ],
   "source": [
    "history = model.fit(train_dataset,\n",
    "                    epochs=25,\n",
    "                    callbacks=callbacks,\n",
    "                    steps_per_epoch=y.shape[0] // batch_size,\n",
    "                    validation_data=valid_dataset)"
   ]
  },
  {
   "cell_type": "markdown",
   "metadata": {},
   "source": [
    "# <a name=\"head3\"></a>3. Evaluation and training Curves"
   ]
  },
  {
   "cell_type": "code",
   "execution_count": 11,
   "metadata": {},
   "outputs": [
    {
     "data": {
      "image/png": "[encoded data removed]",
      "text/plain": [
       "<Figure size 432x288 with 1 Axes>"
      ]
     },
     "metadata": {
      "needs_background": "light"
     },
     "output_type": "display_data"
    }
   ],
   "source": [
    "plt.plot(history.history['loss'])\n",
    "plt.title('Model accuracy')\n",
    "plt.ylabel('Loss')\n",
    "plt.xlabel('Epoch')\n",
    "plt.show()"
   ]
  },
  {
   "cell_type": "code",
   "execution_count": 12,
   "metadata": {},
   "outputs": [
    {
     "name": "stdout",
     "output_type": "stream",
     "text": [
      "15/15 [==============================] - 118s 8s/step\n"
     ]
    }
   ],
   "source": [
    "predictions = model.predict(test_dataset,verbose=1)"
   ]
  },
  {
   "cell_type": "code",
   "execution_count": 13,
   "metadata": {},
   "outputs": [
    {
     "data": {
      "text/html": [
       "<div>\n",
       "<style scoped>\n",
       "    .dataframe tbody tr th:only-of-type {\n",
       "        vertical-align: middle;\n",
       "    }\n",
       "\n",
       "    .dataframe tbody tr th {\n",
       "        vertical-align: top;\n",
       "    }\n",
       "\n",
       "    .dataframe thead th {\n",
       "        text-align: right;\n",
       "    }\n",
       "</style>\n",
       "<table border=\"1\" class=\"dataframe\">\n",
       "  <thead>\n",
       "    <tr style=\"text-align: right;\">\n",
       "      <th></th>\n",
       "      <th>image_id</th>\n",
       "      <th>healthy</th>\n",
       "      <th>multiple_diseases</th>\n",
       "      <th>rust</th>\n",
       "      <th>scab</th>\n",
       "    </tr>\n",
       "  </thead>\n",
       "  <tbody>\n",
       "    <tr>\n",
       "      <th>0</th>\n",
       "      <td>Test_0</td>\n",
       "      <td>1.199259e-03</td>\n",
       "      <td>0.009532</td>\n",
       "      <td>9.891158e-01</td>\n",
       "      <td>1.526450e-04</td>\n",
       "    </tr>\n",
       "    <tr>\n",
       "      <th>1</th>\n",
       "      <td>Test_1</td>\n",
       "      <td>1.022515e-04</td>\n",
       "      <td>0.000813</td>\n",
       "      <td>9.990321e-01</td>\n",
       "      <td>5.232752e-05</td>\n",
       "    </tr>\n",
       "    <tr>\n",
       "      <th>2</th>\n",
       "      <td>Test_2</td>\n",
       "      <td>8.236055e-05</td>\n",
       "      <td>0.000022</td>\n",
       "      <td>1.121791e-05</td>\n",
       "      <td>9.998840e-01</td>\n",
       "    </tr>\n",
       "    <tr>\n",
       "      <th>3</th>\n",
       "      <td>Test_3</td>\n",
       "      <td>9.999143e-01</td>\n",
       "      <td>0.000006</td>\n",
       "      <td>8.458936e-06</td>\n",
       "      <td>7.151408e-05</td>\n",
       "    </tr>\n",
       "    <tr>\n",
       "      <th>4</th>\n",
       "      <td>Test_4</td>\n",
       "      <td>3.958382e-06</td>\n",
       "      <td>0.000149</td>\n",
       "      <td>9.998214e-01</td>\n",
       "      <td>2.583578e-05</td>\n",
       "    </tr>\n",
       "    <tr>\n",
       "      <th>...</th>\n",
       "      <td>...</td>\n",
       "      <td>...</td>\n",
       "      <td>...</td>\n",
       "      <td>...</td>\n",
       "      <td>...</td>\n",
       "    </tr>\n",
       "    <tr>\n",
       "      <th>1816</th>\n",
       "      <td>Test_1816</td>\n",
       "      <td>5.730747e-08</td>\n",
       "      <td>0.000006</td>\n",
       "      <td>9.999930e-01</td>\n",
       "      <td>7.927180e-07</td>\n",
       "    </tr>\n",
       "    <tr>\n",
       "      <th>1817</th>\n",
       "      <td>Test_1817</td>\n",
       "      <td>3.252980e-02</td>\n",
       "      <td>0.006161</td>\n",
       "      <td>3.782881e-03</td>\n",
       "      <td>9.575266e-01</td>\n",
       "    </tr>\n",
       "    <tr>\n",
       "      <th>1818</th>\n",
       "      <td>Test_1818</td>\n",
       "      <td>9.203129e-07</td>\n",
       "      <td>0.000014</td>\n",
       "      <td>9.999844e-01</td>\n",
       "      <td>7.476804e-07</td>\n",
       "    </tr>\n",
       "    <tr>\n",
       "      <th>1819</th>\n",
       "      <td>Test_1819</td>\n",
       "      <td>9.999589e-01</td>\n",
       "      <td>0.000002</td>\n",
       "      <td>5.900764e-07</td>\n",
       "      <td>3.815549e-05</td>\n",
       "    </tr>\n",
       "    <tr>\n",
       "      <th>1820</th>\n",
       "      <td>Test_1820</td>\n",
       "      <td>2.652995e-05</td>\n",
       "      <td>0.000082</td>\n",
       "      <td>5.921698e-06</td>\n",
       "      <td>9.998858e-01</td>\n",
       "    </tr>\n",
       "  </tbody>\n",
       "</table>\n",
       "<p>1821 rows × 5 columns</p>\n",
       "</div>"
      ],
      "text/plain": [
       "       image_id       healthy  multiple_diseases          rust          scab\n",
       "0        Test_0  1.199259e-03           0.009532  9.891158e-01  1.526450e-04\n",
       "1        Test_1  1.022515e-04           0.000813  9.990321e-01  5.232752e-05\n",
       "2        Test_2  8.236055e-05           0.000022  1.121791e-05  9.998840e-01\n",
       "3        Test_3  9.999143e-01           0.000006  8.458936e-06  7.151408e-05\n",
       "4        Test_4  3.958382e-06           0.000149  9.998214e-01  2.583578e-05\n",
       "...         ...           ...                ...           ...           ...\n",
       "1816  Test_1816  5.730747e-08           0.000006  9.999930e-01  7.927180e-07\n",
       "1817  Test_1817  3.252980e-02           0.006161  3.782881e-03  9.575266e-01\n",
       "1818  Test_1818  9.203129e-07           0.000014  9.999844e-01  7.476804e-07\n",
       "1819  Test_1819  9.999589e-01           0.000002  5.900764e-07  3.815549e-05\n",
       "1820  Test_1820  2.652995e-05           0.000082  5.921698e-06  9.998858e-01\n",
       "\n",
       "[1821 rows x 5 columns]"
      ]
     },
     "execution_count": 13,
     "metadata": {},
     "output_type": "execute_result"
    }
   ],
   "source": [
    "temp_df = pd.read_csv('/kaggle/input/plant-pathology-2020-fgvc7/test.csv')\n",
    "submission = pd.DataFrame(\n",
    "    {'image_id': temp_df['image_id'],\n",
    "     'healthy': predictions[:,0],\n",
    "     'multiple_diseases': predictions[:,1],\n",
    "     'rust': predictions[:,2],\n",
    "     'scab': predictions[:,3],\n",
    "    })\n",
    "submission.to_csv(\"plant_pathology.csv\",index=False)\n",
    "submission"
   ]
  }
 ],
 "metadata": {
  "kernelspec": {
   "display_name": "Python 3",
   "language": "python",
   "name": "python3"
  },
  "language_info": {
   "codemirror_mode": {
    "name": "ipython",
    "version": 3
   },
   "file_extension": ".py",
   "mimetype": "text/x-python",
   "name": "python",
   "nbconvert_exporter": "python",
   "pygments_lexer": "ipython3",
   "version": "3.6.6"
  }
 },
 "nbformat": 4,
 "nbformat_minor": 4
}
